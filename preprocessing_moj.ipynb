{
  "nbformat": 4,
  "nbformat_minor": 0,
  "metadata": {
    "colab": {
      "provenance": [],
      "collapsed_sections": [
        "0O64meJvNqtQ"
      ],
      "gpuType": "T4"
    },
    "kernelspec": {
      "name": "python3",
      "display_name": "Python 3"
    },
    "language_info": {
      "name": "python"
    },
    "accelerator": "GPU"
  },
  "cells": [
    {
      "cell_type": "code",
      "source": [
        "import pandas as pd, numpy as np\n",
        "from textblob import TextBlob\n",
        "import matplotlib.pyplot as plt\n",
        "import nltk\n",
        "import re\n",
        "import seaborn as sns"
      ],
      "metadata": {
        "id": "SAaTsMseO7vo"
      },
      "execution_count": 35,
      "outputs": []
    },
    {
      "cell_type": "code",
      "source": [
        "file_path = '/content/drive/MyDrive/moj_data_new.csv'  # Replace with your actual file path\n",
        "df = pd.read_csv(file_path)"
      ],
      "metadata": {
        "id": "8k1S5266o4ma"
      },
      "execution_count": 36,
      "outputs": []
    },
    {
      "cell_type": "markdown",
      "source": [
        "# Sentiment Analysis"
      ],
      "metadata": {
        "id": "0O64meJvNqtQ"
      }
    },
    {
      "cell_type": "code",
      "source": [
        "def convert_counts(count):\n",
        "    count = str(count).lower()\n",
        "    if 'k' in count:\n",
        "        return int(float(count.replace('k', '')) * 1000)\n",
        "    elif 'm' in count:\n",
        "        return int(float(count.replace('m', '')) * 1000000)\n",
        "    else:\n",
        "        return int(count)  # For numbers without suffix\n",
        "\n",
        "# Function to analyze sentiment\n",
        "def analyze_sentiment(text):\n",
        "    blob = TextBlob(text)\n",
        "    return blob.sentiment.polarity  # Range: -1 (negative) to +1 (positive)\n",
        "\n",
        "# Preprocess: Convert 'Likes' and 'Shares' to numerical format\n",
        "df['Likes'] = df['Likes'].apply(convert_counts)\n",
        "df['Shares'] = df['Shares'].apply(convert_counts)\n",
        "\n",
        "# Apply sentiment analysis to the 'English' column\n",
        "df['Sentiment'] = df['English'].apply(lambda x: analyze_sentiment(str(x)))\n",
        "\n",
        "# Categorize sentiment\n",
        "def categorize_sentiment(score):\n",
        "    if score > 0.1:\n",
        "        return 'Positive'\n",
        "    elif score < -0.1:\n",
        "        return 'Negative'\n",
        "    else:\n",
        "        return 'Neutral'\n",
        "\n",
        "df['Sentiment Category'] = df['Sentiment'].apply(categorize_sentiment)\n",
        "\n",
        "# # Save processed df to a new file\n",
        "# output_file = '/content/drive/MyDrive/final_processed_data.csv'\n",
        "# df.to_csv(output_file, index=False)\n",
        "# print(f\"Data preprocessing and sentiment analysis complete. Results saved in '{output_file}'.\")\n",
        "\n",
        "df.head()"
      ],
      "metadata": {
        "colab": {
          "base_uri": "https://localhost:8080/",
          "height": 0
        },
        "id": "5RBHLVj2YZRS",
        "outputId": "d7c7e83a-daae-43d8-da4f-f0f8072ddec3"
      },
      "execution_count": 37,
      "outputs": [
        {
          "output_type": "execute_result",
          "data": {
            "text/plain": [
              "    Likes Comments  Shares                                            Content  \\\n",
              "0  216800      131   73300                                             poster   \n",
              "1   58700      115    9600  #NIVEASoftBeautyChallenge #AageBadhJa #ShubhDh...   \n",
              "2  104100      197    9600                                             poster   \n",
              "3   95700       65   15900                                   #TopGiftedVideos   \n",
              "4   44900      126    9400                         #NIVEASoftFashionChallenge   \n",
              "\n",
              "                                           Audio URL  \\\n",
              "0  https://cdn4.sharechat.com/2f3639fb_1700986341...   \n",
              "1  https://cdn4.sharechat.com/33d5318_26f/audio/3...   \n",
              "2  https://cdn4.sharechat.com/33d5318_26f/audio/4...   \n",
              "3  https://cdn4.sharechat.com/33d5318_26f/audio/5...   \n",
              "4  https://cdn4.sharechat.com/33d5318_26f/audio/4...   \n",
              "\n",
              "                                       Transcription  \\\n",
              "0   प्रश्न प्रश्न प्रश्न प्रश्न प्रश्न प्रश्न प्र...   \n",
              "1   और मिलो या ना मिलो हम आपके हैं मिलो ना मिलो ह...   \n",
              "2                      तू दूर नहोना शम्द मैं किसी आओ   \n",
              "3   सबसे भरोसेमन्द इनसान ही दोका देता है ये आज से...   \n",
              "4                                              कर दो   \n",
              "\n",
              "                                             English  \\\n",
              "0  Question Question Question Question Question Q...   \n",
              "1  And meet or not meet, we are yours, do not mee...   \n",
              "2            You are not far away, I come to someone   \n",
              "3  The most trusted person gives it that it is ru...   \n",
              "4                                              Do it   \n",
              "\n",
              "                                          Unnamed: 7  Sentiment  \\\n",
              "0  Question Question Question Question Question Q...       0.00   \n",
              "1  And meet or not meet, we are yours, do not mee...       0.00   \n",
              "2            You are not far away, I come to someone      -0.05   \n",
              "3  The most trusted person gives it that it is ru...       0.50   \n",
              "4                                              Do it       0.00   \n",
              "\n",
              "  Sentiment Category  \n",
              "0            Neutral  \n",
              "1            Neutral  \n",
              "2            Neutral  \n",
              "3           Positive  \n",
              "4            Neutral  "
            ],
            "text/html": [
              "\n",
              "  <div id=\"df-73017973-ff46-43a9-94fb-9c5062dcc7dc\" class=\"colab-df-container\">\n",
              "    <div>\n",
              "<style scoped>\n",
              "    .dataframe tbody tr th:only-of-type {\n",
              "        vertical-align: middle;\n",
              "    }\n",
              "\n",
              "    .dataframe tbody tr th {\n",
              "        vertical-align: top;\n",
              "    }\n",
              "\n",
              "    .dataframe thead th {\n",
              "        text-align: right;\n",
              "    }\n",
              "</style>\n",
              "<table border=\"1\" class=\"dataframe\">\n",
              "  <thead>\n",
              "    <tr style=\"text-align: right;\">\n",
              "      <th></th>\n",
              "      <th>Likes</th>\n",
              "      <th>Comments</th>\n",
              "      <th>Shares</th>\n",
              "      <th>Content</th>\n",
              "      <th>Audio URL</th>\n",
              "      <th>Transcription</th>\n",
              "      <th>English</th>\n",
              "      <th>Unnamed: 7</th>\n",
              "      <th>Sentiment</th>\n",
              "      <th>Sentiment Category</th>\n",
              "    </tr>\n",
              "  </thead>\n",
              "  <tbody>\n",
              "    <tr>\n",
              "      <th>0</th>\n",
              "      <td>216800</td>\n",
              "      <td>131</td>\n",
              "      <td>73300</td>\n",
              "      <td>poster</td>\n",
              "      <td>https://cdn4.sharechat.com/2f3639fb_1700986341...</td>\n",
              "      <td>प्रश्न प्रश्न प्रश्न प्रश्न प्रश्न प्रश्न प्र...</td>\n",
              "      <td>Question Question Question Question Question Q...</td>\n",
              "      <td>Question Question Question Question Question Q...</td>\n",
              "      <td>0.00</td>\n",
              "      <td>Neutral</td>\n",
              "    </tr>\n",
              "    <tr>\n",
              "      <th>1</th>\n",
              "      <td>58700</td>\n",
              "      <td>115</td>\n",
              "      <td>9600</td>\n",
              "      <td>#NIVEASoftBeautyChallenge #AageBadhJa #ShubhDh...</td>\n",
              "      <td>https://cdn4.sharechat.com/33d5318_26f/audio/3...</td>\n",
              "      <td>और मिलो या ना मिलो हम आपके हैं मिलो ना मिलो ह...</td>\n",
              "      <td>And meet or not meet, we are yours, do not mee...</td>\n",
              "      <td>And meet or not meet, we are yours, do not mee...</td>\n",
              "      <td>0.00</td>\n",
              "      <td>Neutral</td>\n",
              "    </tr>\n",
              "    <tr>\n",
              "      <th>2</th>\n",
              "      <td>104100</td>\n",
              "      <td>197</td>\n",
              "      <td>9600</td>\n",
              "      <td>poster</td>\n",
              "      <td>https://cdn4.sharechat.com/33d5318_26f/audio/4...</td>\n",
              "      <td>तू दूर नहोना शम्द मैं किसी आओ</td>\n",
              "      <td>You are not far away, I come to someone</td>\n",
              "      <td>You are not far away, I come to someone</td>\n",
              "      <td>-0.05</td>\n",
              "      <td>Neutral</td>\n",
              "    </tr>\n",
              "    <tr>\n",
              "      <th>3</th>\n",
              "      <td>95700</td>\n",
              "      <td>65</td>\n",
              "      <td>15900</td>\n",
              "      <td>#TopGiftedVideos</td>\n",
              "      <td>https://cdn4.sharechat.com/33d5318_26f/audio/5...</td>\n",
              "      <td>सबसे भरोसेमन्द इनसान ही दोका देता है ये आज से...</td>\n",
              "      <td>The most trusted person gives it that it is ru...</td>\n",
              "      <td>The most trusted person gives it that it is ru...</td>\n",
              "      <td>0.50</td>\n",
              "      <td>Positive</td>\n",
              "    </tr>\n",
              "    <tr>\n",
              "      <th>4</th>\n",
              "      <td>44900</td>\n",
              "      <td>126</td>\n",
              "      <td>9400</td>\n",
              "      <td>#NIVEASoftFashionChallenge</td>\n",
              "      <td>https://cdn4.sharechat.com/33d5318_26f/audio/4...</td>\n",
              "      <td>कर दो</td>\n",
              "      <td>Do it</td>\n",
              "      <td>Do it</td>\n",
              "      <td>0.00</td>\n",
              "      <td>Neutral</td>\n",
              "    </tr>\n",
              "  </tbody>\n",
              "</table>\n",
              "</div>\n",
              "    <div class=\"colab-df-buttons\">\n",
              "\n",
              "  <div class=\"colab-df-container\">\n",
              "    <button class=\"colab-df-convert\" onclick=\"convertToInteractive('df-73017973-ff46-43a9-94fb-9c5062dcc7dc')\"\n",
              "            title=\"Convert this dataframe to an interactive table.\"\n",
              "            style=\"display:none;\">\n",
              "\n",
              "  <svg xmlns=\"http://www.w3.org/2000/svg\" height=\"24px\" viewBox=\"0 -960 960 960\">\n",
              "    <path d=\"M120-120v-720h720v720H120Zm60-500h600v-160H180v160Zm220 220h160v-160H400v160Zm0 220h160v-160H400v160ZM180-400h160v-160H180v160Zm440 0h160v-160H620v160ZM180-180h160v-160H180v160Zm440 0h160v-160H620v160Z\"/>\n",
              "  </svg>\n",
              "    </button>\n",
              "\n",
              "  <style>\n",
              "    .colab-df-container {\n",
              "      display:flex;\n",
              "      gap: 12px;\n",
              "    }\n",
              "\n",
              "    .colab-df-convert {\n",
              "      background-color: #E8F0FE;\n",
              "      border: none;\n",
              "      border-radius: 50%;\n",
              "      cursor: pointer;\n",
              "      display: none;\n",
              "      fill: #1967D2;\n",
              "      height: 32px;\n",
              "      padding: 0 0 0 0;\n",
              "      width: 32px;\n",
              "    }\n",
              "\n",
              "    .colab-df-convert:hover {\n",
              "      background-color: #E2EBFA;\n",
              "      box-shadow: 0px 1px 2px rgba(60, 64, 67, 0.3), 0px 1px 3px 1px rgba(60, 64, 67, 0.15);\n",
              "      fill: #174EA6;\n",
              "    }\n",
              "\n",
              "    .colab-df-buttons div {\n",
              "      margin-bottom: 4px;\n",
              "    }\n",
              "\n",
              "    [theme=dark] .colab-df-convert {\n",
              "      background-color: #3B4455;\n",
              "      fill: #D2E3FC;\n",
              "    }\n",
              "\n",
              "    [theme=dark] .colab-df-convert:hover {\n",
              "      background-color: #434B5C;\n",
              "      box-shadow: 0px 1px 3px 1px rgba(0, 0, 0, 0.15);\n",
              "      filter: drop-shadow(0px 1px 2px rgba(0, 0, 0, 0.3));\n",
              "      fill: #FFFFFF;\n",
              "    }\n",
              "  </style>\n",
              "\n",
              "    <script>\n",
              "      const buttonEl =\n",
              "        document.querySelector('#df-73017973-ff46-43a9-94fb-9c5062dcc7dc button.colab-df-convert');\n",
              "      buttonEl.style.display =\n",
              "        google.colab.kernel.accessAllowed ? 'block' : 'none';\n",
              "\n",
              "      async function convertToInteractive(key) {\n",
              "        const element = document.querySelector('#df-73017973-ff46-43a9-94fb-9c5062dcc7dc');\n",
              "        const dataTable =\n",
              "          await google.colab.kernel.invokeFunction('convertToInteractive',\n",
              "                                                    [key], {});\n",
              "        if (!dataTable) return;\n",
              "\n",
              "        const docLinkHtml = 'Like what you see? Visit the ' +\n",
              "          '<a target=\"_blank\" href=https://colab.research.google.com/notebooks/data_table.ipynb>data table notebook</a>'\n",
              "          + ' to learn more about interactive tables.';\n",
              "        element.innerHTML = '';\n",
              "        dataTable['output_type'] = 'display_data';\n",
              "        await google.colab.output.renderOutput(dataTable, element);\n",
              "        const docLink = document.createElement('div');\n",
              "        docLink.innerHTML = docLinkHtml;\n",
              "        element.appendChild(docLink);\n",
              "      }\n",
              "    </script>\n",
              "  </div>\n",
              "\n",
              "\n",
              "<div id=\"df-01876dfd-6541-4bd5-adb3-111e2eaf78fa\">\n",
              "  <button class=\"colab-df-quickchart\" onclick=\"quickchart('df-01876dfd-6541-4bd5-adb3-111e2eaf78fa')\"\n",
              "            title=\"Suggest charts\"\n",
              "            style=\"display:none;\">\n",
              "\n",
              "<svg xmlns=\"http://www.w3.org/2000/svg\" height=\"24px\"viewBox=\"0 0 24 24\"\n",
              "     width=\"24px\">\n",
              "    <g>\n",
              "        <path d=\"M19 3H5c-1.1 0-2 .9-2 2v14c0 1.1.9 2 2 2h14c1.1 0 2-.9 2-2V5c0-1.1-.9-2-2-2zM9 17H7v-7h2v7zm4 0h-2V7h2v10zm4 0h-2v-4h2v4z\"/>\n",
              "    </g>\n",
              "</svg>\n",
              "  </button>\n",
              "\n",
              "<style>\n",
              "  .colab-df-quickchart {\n",
              "      --bg-color: #E8F0FE;\n",
              "      --fill-color: #1967D2;\n",
              "      --hover-bg-color: #E2EBFA;\n",
              "      --hover-fill-color: #174EA6;\n",
              "      --disabled-fill-color: #AAA;\n",
              "      --disabled-bg-color: #DDD;\n",
              "  }\n",
              "\n",
              "  [theme=dark] .colab-df-quickchart {\n",
              "      --bg-color: #3B4455;\n",
              "      --fill-color: #D2E3FC;\n",
              "      --hover-bg-color: #434B5C;\n",
              "      --hover-fill-color: #FFFFFF;\n",
              "      --disabled-bg-color: #3B4455;\n",
              "      --disabled-fill-color: #666;\n",
              "  }\n",
              "\n",
              "  .colab-df-quickchart {\n",
              "    background-color: var(--bg-color);\n",
              "    border: none;\n",
              "    border-radius: 50%;\n",
              "    cursor: pointer;\n",
              "    display: none;\n",
              "    fill: var(--fill-color);\n",
              "    height: 32px;\n",
              "    padding: 0;\n",
              "    width: 32px;\n",
              "  }\n",
              "\n",
              "  .colab-df-quickchart:hover {\n",
              "    background-color: var(--hover-bg-color);\n",
              "    box-shadow: 0 1px 2px rgba(60, 64, 67, 0.3), 0 1px 3px 1px rgba(60, 64, 67, 0.15);\n",
              "    fill: var(--button-hover-fill-color);\n",
              "  }\n",
              "\n",
              "  .colab-df-quickchart-complete:disabled,\n",
              "  .colab-df-quickchart-complete:disabled:hover {\n",
              "    background-color: var(--disabled-bg-color);\n",
              "    fill: var(--disabled-fill-color);\n",
              "    box-shadow: none;\n",
              "  }\n",
              "\n",
              "  .colab-df-spinner {\n",
              "    border: 2px solid var(--fill-color);\n",
              "    border-color: transparent;\n",
              "    border-bottom-color: var(--fill-color);\n",
              "    animation:\n",
              "      spin 1s steps(1) infinite;\n",
              "  }\n",
              "\n",
              "  @keyframes spin {\n",
              "    0% {\n",
              "      border-color: transparent;\n",
              "      border-bottom-color: var(--fill-color);\n",
              "      border-left-color: var(--fill-color);\n",
              "    }\n",
              "    20% {\n",
              "      border-color: transparent;\n",
              "      border-left-color: var(--fill-color);\n",
              "      border-top-color: var(--fill-color);\n",
              "    }\n",
              "    30% {\n",
              "      border-color: transparent;\n",
              "      border-left-color: var(--fill-color);\n",
              "      border-top-color: var(--fill-color);\n",
              "      border-right-color: var(--fill-color);\n",
              "    }\n",
              "    40% {\n",
              "      border-color: transparent;\n",
              "      border-right-color: var(--fill-color);\n",
              "      border-top-color: var(--fill-color);\n",
              "    }\n",
              "    60% {\n",
              "      border-color: transparent;\n",
              "      border-right-color: var(--fill-color);\n",
              "    }\n",
              "    80% {\n",
              "      border-color: transparent;\n",
              "      border-right-color: var(--fill-color);\n",
              "      border-bottom-color: var(--fill-color);\n",
              "    }\n",
              "    90% {\n",
              "      border-color: transparent;\n",
              "      border-bottom-color: var(--fill-color);\n",
              "    }\n",
              "  }\n",
              "</style>\n",
              "\n",
              "  <script>\n",
              "    async function quickchart(key) {\n",
              "      const quickchartButtonEl =\n",
              "        document.querySelector('#' + key + ' button');\n",
              "      quickchartButtonEl.disabled = true;  // To prevent multiple clicks.\n",
              "      quickchartButtonEl.classList.add('colab-df-spinner');\n",
              "      try {\n",
              "        const charts = await google.colab.kernel.invokeFunction(\n",
              "            'suggestCharts', [key], {});\n",
              "      } catch (error) {\n",
              "        console.error('Error during call to suggestCharts:', error);\n",
              "      }\n",
              "      quickchartButtonEl.classList.remove('colab-df-spinner');\n",
              "      quickchartButtonEl.classList.add('colab-df-quickchart-complete');\n",
              "    }\n",
              "    (() => {\n",
              "      let quickchartButtonEl =\n",
              "        document.querySelector('#df-01876dfd-6541-4bd5-adb3-111e2eaf78fa button');\n",
              "      quickchartButtonEl.style.display =\n",
              "        google.colab.kernel.accessAllowed ? 'block' : 'none';\n",
              "    })();\n",
              "  </script>\n",
              "</div>\n",
              "\n",
              "    </div>\n",
              "  </div>\n"
            ],
            "application/vnd.google.colaboratory.intrinsic+json": {
              "type": "dataframe",
              "variable_name": "df",
              "summary": "{\n  \"name\": \"df\",\n  \"rows\": 159,\n  \"fields\": [\n    {\n      \"column\": \"Likes\",\n      \"properties\": {\n        \"dtype\": \"number\",\n        \"std\": 91614,\n        \"min\": 268,\n        \"max\": 613000,\n        \"num_unique_values\": 147,\n        \"samples\": [\n          51000,\n          94500,\n          141000\n        ],\n        \"semantic_type\": \"\",\n        \"description\": \"\"\n      }\n    },\n    {\n      \"column\": \"Comments\",\n      \"properties\": {\n        \"dtype\": \"string\",\n        \"num_unique_values\": 104,\n        \"samples\": [\n          \"167\",\n          \"185\",\n          \"33\"\n        ],\n        \"semantic_type\": \"\",\n        \"description\": \"\"\n      }\n    },\n    {\n      \"column\": \"Shares\",\n      \"properties\": {\n        \"dtype\": \"number\",\n        \"std\": 12872,\n        \"min\": 16,\n        \"max\": 74800,\n        \"num_unique_values\": 130,\n        \"samples\": [\n          8100,\n          4100,\n          22700\n        ],\n        \"semantic_type\": \"\",\n        \"description\": \"\"\n      }\n    },\n    {\n      \"column\": \"Content\",\n      \"properties\": {\n        \"dtype\": \"category\",\n        \"num_unique_values\": 75,\n        \"samples\": [\n          \"#NIVEASoftBeautyChallenge #HappyDiwali #AayiNai #DekhaTenu #MeraRangDeBasantiChola #TopGiftedVideos\",\n          \"maa\",\n          \"Takle \\ud83d\\ude02KI Shaadi \\ud83e\\udd2a\\ud83d\\ude02 #factsvirals\"\n        ],\n        \"semantic_type\": \"\",\n        \"description\": \"\"\n      }\n    },\n    {\n      \"column\": \"Audio URL\",\n      \"properties\": {\n        \"dtype\": \"string\",\n        \"num_unique_values\": 158,\n        \"samples\": [\n          \"https://cdn4.sharechat.com/33d5318_26f/audio/384fa61e_1731202039295.mp3?tenant=moj&referrer=audio-service&f=33d5318_26f/audio/384fa61e_1731202039295.mp3\",\n          \"https://cdn4.sharechat.com/33d5318_26f/audio/1fdb039_1731380050906.mp3?tenant=moj&referrer=audio-service&f=33d5318_26f/audio/1fdb039_1731380050906.mp3\",\n          \"https://cdn4.sharechat.com/33d5318_26f/audio/312afdd6_1725833776067.mp3?tenant=moj&referrer=audio-service&f=33d5318_26f/audio/312afdd6_1725833776067.mp3\"\n        ],\n        \"semantic_type\": \"\",\n        \"description\": \"\"\n      }\n    },\n    {\n      \"column\": \"Transcription\",\n      \"properties\": {\n        \"dtype\": \"string\",\n        \"num_unique_values\": 158,\n        \"samples\": [\n          \" \\u092a\\u094d\\u0930\\u0947\\u0938 \\u0932\\u094b \\u0932\\u094b\",\n          \" \\u0906\\u092a \\u0905\\u092a\\u0928\\u0940 \\u092c\\u0947\\u091f\\u0940 \\u0915\\u094b \\u092c\\u0947\\u091f\\u093e \\u0915\\u0939\\u0915\\u0930 \\u092c\\u0941\\u0932\\u093e \\u0938\\u0915\\u0924\\u0947 \\u090f\\u0902, \\u092e\\u0917\\u0930 \\u092d\\u0940 \\u0906\\u092a \\u0915\\u094b \\u092c\\u0947\\u091f\\u0940 \\u0928\\u0939\\u0940\\u0902 \\u0915\\u0939 \\u0938\\u0915\\u0924\\u0947, \\u0907\\u0938\\u0932\\u093f\\u090f \\u092c\\u0947\\u091f\\u0940 Anmol \\u0939\\u094b\\u0924\\u0940 \\u0939\\u0948\\u0964\",\n          \" \\u0938\\u0941\\u0928\\u094b, \\u0938\\u091a \\u092c\\u094b\\u0932\\u0915\\u0930 \\u0926\\u093f\\u0932 \\u0924\\u094b\\u0921\\u093c \\u0926\\u0947\\u0928\\u093e, \\u092a\\u0930 \\u091c\\u0942\\u091f \\u092c\\u094b\\u0932\\u0915\\u0930 \\u0915\\u092d\\u0940 \\u0927\\u0942\\u0915\\u093e \\u092e\\u0924 \\u0926\\u0947\\u0928\\u093e.\"\n        ],\n        \"semantic_type\": \"\",\n        \"description\": \"\"\n      }\n    },\n    {\n      \"column\": \"English\",\n      \"properties\": {\n        \"dtype\": \"string\",\n        \"num_unique_values\": 158,\n        \"samples\": [\n          \"Take a press\",\n          \"You can call your daughter as a son, but also you cannot call a daughter, so the daughter is anmol.\",\n          \"Listen, break your heart by telling the truth, but never smoke by speaking jute.\"\n        ],\n        \"semantic_type\": \"\",\n        \"description\": \"\"\n      }\n    },\n    {\n      \"column\": \"Unnamed: 7\",\n      \"properties\": {\n        \"dtype\": \"string\",\n        \"num_unique_values\": 156,\n        \"samples\": [\n          \"Polay Churia Pule took a little bit of Tai\",\n          \"Made of mud, you will meet in the soil and come crying, they will leave and leave\",\n          \"Or or or or or or or or or or or or or or or or or or or or or or or or or or or or or or or or or or or or or or or or or or or or or or or or or or or or or or or or or or or or or or or or or or or or or or or or or or or or or not,Or or or or or or or or or or or or or or or or or or or or or or or or or or or or or or or or or or or or or \\ufffd\"\n        ],\n        \"semantic_type\": \"\",\n        \"description\": \"\"\n      }\n    },\n    {\n      \"column\": \"Sentiment\",\n      \"properties\": {\n        \"dtype\": \"number\",\n        \"std\": 0.23528278945544548,\n        \"min\": -0.6,\n        \"max\": 0.8,\n        \"num_unique_values\": 45,\n        \"samples\": [\n          0.15000000000000002,\n          0.15,\n          -0.04999999999999999\n        ],\n        \"semantic_type\": \"\",\n        \"description\": \"\"\n      }\n    },\n    {\n      \"column\": \"Sentiment Category\",\n      \"properties\": {\n        \"dtype\": \"category\",\n        \"num_unique_values\": 3,\n        \"samples\": [\n          \"Neutral\",\n          \"Positive\",\n          \"Negative\"\n        ],\n        \"semantic_type\": \"\",\n        \"description\": \"\"\n      }\n    }\n  ]\n}"
            }
          },
          "metadata": {},
          "execution_count": 37
        }
      ]
    },
    {
      "cell_type": "code",
      "source": [
        "# Visualization (optional)\n",
        "sentiment_counts = df['Sentiment Category'].value_counts()\n",
        "sentiment_counts.plot(kind='bar', color=['green', 'red', 'blue'], title='Sentiment Distribution')\n",
        "plt.xlabel('Sentiment Category')\n",
        "plt.xticks(rotation=360)\n",
        "plt.ylabel('Number of Videos')\n",
        "plt.show()"
      ],
      "metadata": {
        "colab": {
          "base_uri": "https://localhost:8080/",
          "height": 0
        },
        "id": "B0DR_dglQomz",
        "outputId": "b7349b66-24c8-44ca-9c99-6bead417fddf"
      },
      "execution_count": 38,
      "outputs": [
        {
          "output_type": "display_data",
          "data": {
            "text/plain": [
              "<Figure size 640x480 with 1 Axes>"
            ],
            "image/png": "[encoded data removed]"
          },
          "metadata": {}
        }
      ]
    },
    {
      "cell_type": "markdown",
      "source": [
        "# Content Categorization"
      ],
      "metadata": {
        "id": "L6m6Cx2tNtrI"
      }
    },
    {
      "cell_type": "code",
      "source": [
        "df[\"Content\"] = df[\"Content\"].str.replace(r'\\bposter\\b', '', case=False, regex=True).str.strip()\n",
        "df[\"Content\"] = df[\"Content\"].replace('', np.nan)"
      ],
      "metadata": {
        "id": "Pd6WRaTFiYoG"
      },
      "execution_count": 39,
      "outputs": []
    },
    {
      "cell_type": "code",
      "source": [
        "# def preprocess_hashtags(hashtags):\n",
        "#     # Check if the input is a string before applying regex\n",
        "#     if isinstance(hashtags, str):\n",
        "#         hashtags = re.sub(r\"#\", \" \", hashtags)  # Remove hashtags\n",
        "#         hashtags = hashtags.lower().strip()  # Convert to lowercase and strip whitespace\n",
        "#         hashtags = re.findall(r'\\w+', hashtags)  # Extract words\n",
        "#         return hashtags\n",
        "#     # If not a string (e.g., NaN), return an empty list or a suitable placeholder\n",
        "#     else:\n",
        "#         return []  # Return an empty list for non-string values\n",
        "\n",
        "# df[\"Processed_Hashtags\"] = df[\"Content\"].apply(preprocess_hashtags)"
      ],
      "metadata": {
        "id": "JexXfzUVO1S1"
      },
      "execution_count": 40,
      "outputs": []
    },
    {
      "cell_type": "code",
      "source": [
        "def preprocess_text(text):\n",
        "    if isinstance(text, str):\n",
        "        text = re.sub(r\"#\", \" \", text)  # Remove hashtags\n",
        "        text = text.lower().strip()  # Convert to lowercase and strip whitespace\n",
        "        text = re.findall(r'\\w+', text)  # Extract words\n",
        "        return text\n",
        "    else:\n",
        "        return []"
      ],
      "metadata": {
        "id": "0uEAqtZ56XvB"
      },
      "execution_count": 41,
      "outputs": []
    },
    {
      "cell_type": "code",
      "source": [
        "df[\"Processed_Hashtags\"] = df[\"Content\"].apply(preprocess_text)\n",
        "df[\"Processed_Transcription\"] = df[\"English\"].apply(preprocess_text)\n",
        "\n",
        "# Combine hashtags and transcription\n",
        "df[\"Combined_Text\"] = df.apply(\n",
        "    lambda row: row[\"Processed_Hashtags\"] + row[\"Processed_Transcription\"], axis=1\n",
        ")"
      ],
      "metadata": {
        "id": "13dc64DL6eSz"
      },
      "execution_count": 42,
      "outputs": []
    },
    {
      "cell_type": "code",
      "source": [
        "from sentence_transformers import SentenceTransformer\n",
        "\n",
        "# Load pre-trained sentence embedding model\n",
        "model = SentenceTransformer('all-MiniLM-L6-v2')\n",
        "\n",
        "def generate_embeddings(text):\n",
        "    if text:  # If there are text\n",
        "        return model.encode(\" \".join(text))\n",
        "    else:  # Return None for empty lists\n",
        "        return None\n",
        "\n",
        "df[\"Combined_Embeddings\"] = df[\"Combined_Text\"].apply(generate_embeddings)\n",
        "\n",
        "# Separate rows with valid embeddings from empty ones\n",
        "valid_embeddings = df[\"Combined_Embeddings\"].dropna().tolist()\n",
        "empty_rows = df[\"Combined_Embeddings\"].isna()"
      ],
      "metadata": {
        "id": "2hDyITs3M4ap"
      },
      "execution_count": 43,
      "outputs": []
    },
    {
      "cell_type": "code",
      "source": [
        "from sklearn.cluster import KMeans\n",
        "import numpy as np\n",
        "\n",
        "# Stack all embeddings\n",
        "embeddings = np.vstack(valid_embeddings)\n",
        "\n",
        "# Perform KMeans clustering\n",
        "num_clusters = 9  # Choose a suitable number of clusters\n",
        "kmeans = KMeans(n_clusters=num_clusters, random_state=42)\n",
        "df.loc[~empty_rows, \"Category\"] = kmeans.fit_predict(embeddings)"
      ],
      "metadata": {
        "id": "lBOL2j9wggTy"
      },
      "execution_count": 44,
      "outputs": []
    },
    {
      "cell_type": "code",
      "source": [
        "# Create a mapping of cluster IDs to general category names\n",
        "category_mapping = {\n",
        "    0: \"love\",\n",
        "    1: \"funny\",\n",
        "    2: \"sad\",\n",
        "    3: \"motivational\",\n",
        "    4: \"travel\",\n",
        "    5: \"festival\",\n",
        "    6: \"cute\",\n",
        "    7: \"fashion\",\n",
        "    8: \"food\"\n",
        "}\n",
        "\n",
        "df.loc[~empty_rows, \"Generalized_Category\"] = df.loc[~empty_rows, \"Category\"].map(category_mapping)\n",
        "\n",
        "# Assign \"unknown\" to empty rows\n",
        "df.loc[empty_rows, \"Generalized_Category\"] = \"unknown\""
      ],
      "metadata": {
        "id": "AyXoEPjfgrUx"
      },
      "execution_count": 45,
      "outputs": []
    },
    {
      "cell_type": "code",
      "source": [
        "df.drop(columns=\"Unnamed: 7\", inplace=True)\n",
        "df.columns"
      ],
      "metadata": {
        "colab": {
          "base_uri": "https://localhost:8080/"
        },
        "id": "jbQjsQzFgaoD",
        "outputId": "8072f512-dd9f-413b-94da-e2ee6c64a71c"
      },
      "execution_count": 46,
      "outputs": [
        {
          "output_type": "execute_result",
          "data": {
            "text/plain": [
              "Index(['Likes', 'Comments', 'Shares', 'Content', 'Audio URL', 'Transcription',\n",
              "       'English', 'Sentiment', 'Sentiment Category', 'Processed_Hashtags',\n",
              "       'Processed_Transcription', 'Combined_Text', 'Combined_Embeddings',\n",
              "       'Category', 'Generalized_Category'],\n",
              "      dtype='object')"
            ]
          },
          "metadata": {},
          "execution_count": 46
        }
      ]
    },
    {
      "cell_type": "code",
      "source": [
        "df.to_csv(\"/content/drive/MyDrive/updated_moj2.csv\", index=False)"
      ],
      "metadata": {
        "id": "qlhPrKhWoehW"
      },
      "execution_count": 47,
      "outputs": []
    },
    {
      "cell_type": "code",
      "source": [
        "filtered_df = df[df[\"Generalized_Category\"] != \"unknown\"]\n",
        "\n",
        "# Example: Plot a bar chart of category counts\n",
        "category_counts = filtered_df[\"Generalized_Category\"].value_counts()\n",
        "\n",
        "# Plot the data\n",
        "plt.figure(figsize=(10, 6))\n",
        "sns.countplot(data=filtered_df, x=\"Generalized_Category\", palette='bright')\n",
        "plt.title(\"Category Distribution (Excluding 'Unknown')\")\n",
        "plt.xlabel(\"Category\")\n",
        "plt.ylabel(\"Count\")\n",
        "plt.xticks(rotation=45)\n",
        "plt.show()"
      ],
      "metadata": {
        "colab": {
          "base_uri": "https://localhost:8080/",
          "height": 729
        },
        "id": "8Z1CQ6tjo8pZ",
        "outputId": "0b723214-a740-47d9-bc6e-6cf6efef9d32"
      },
      "execution_count": 48,
      "outputs": [
        {
          "output_type": "stream",
          "name": "stderr",
          "text": [
            "<ipython-input-48-aa77a7e858d8>:8: FutureWarning: \n",
            "\n",
            "Passing `palette` without assigning `hue` is deprecated and will be removed in v0.14.0. Assign the `x` variable to `hue` and set `legend=False` for the same effect.\n",
            "\n",
            "  sns.countplot(data=filtered_df, x=\"Generalized_Category\", palette='bright')\n"
          ]
        },
        {
          "output_type": "display_data",
          "data": {
            "text/plain": [
              "<Figure size 1000x600 with 1 Axes>"
            ],
            "image/png": "[encoded data removed]"
          },
          "metadata": {}
        }
      ]
    },
    {
      "cell_type": "code",
      "source": [],
      "metadata": {
        "id": "StOWW6BVxu54"
      },
      "execution_count": 48,
      "outputs": []
    }
  ]
}